{
 "cells": [
  {
   "cell_type": "code",
   "execution_count": 2,
   "metadata": {},
   "outputs": [],
   "source": [
    "import cv2\n",
    "\n",
    "\n",
    "cap = cv2.VideoCapture('G:/FYP/FYP_Practise/FastAPi/Recordings/file,186,end_recording.mp4')\n",
    "\n",
    "while True:\n",
    "    \n",
    "    _,img = cap.read()\n",
    "   \n",
    "    cv2.imwrite('G:/FYP/FYP_Practise/FastAPi/Recordings/Thumbnails/file,186,end_recording.jpg',img)\n",
    "    break\n",
    "    "
   ]
  }
 ],
 "metadata": {
  "kernelspec": {
   "display_name": "dispaster",
   "language": "python",
   "name": "python3"
  },
  "language_info": {
   "codemirror_mode": {
    "name": "ipython",
    "version": 3
   },
   "file_extension": ".py",
   "mimetype": "text/x-python",
   "name": "python",
   "nbconvert_exporter": "python",
   "pygments_lexer": "ipython3",
   "version": "3.10.4"
  },
  "orig_nbformat": 4
 },
 "nbformat": 4,
 "nbformat_minor": 2
}
